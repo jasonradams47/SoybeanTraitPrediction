{
 "cells": [
  {
   "cell_type": "code",
   "execution_count": null,
   "metadata": {},
   "outputs": [],
   "source": [
    "###Load necessary modules###\n",
    "import keras as k\n",
    "import numpy as np\n",
    "import tensorflow as tf\n",
    "import matplotlib.image as mpimg \n",
    "import cv2"
   ]
  },
  {
   "cell_type": "code",
   "execution_count": null,
   "metadata": {},
   "outputs": [],
   "source": [
    "###Load segmentation model###\n",
    "seg_mod = tf.keras.models.load_model(\" \") #include path to Soy_Segmentation.hdf5 within the quotation marks"
   ]
  },
  {
   "cell_type": "code",
   "execution_count": null,
   "metadata": {},
   "outputs": [],
   "source": [
    "###Function to break image down into neightborhood format###\n",
    "def img_to_mat_nbhd(image):\n",
    "    k=0\n",
    "    r,c = np.shape(image)[0],np.shape(image)[1]\n",
    "    img_pad = np.zeros((r+1,c+1,3))\n",
    "    img_pad[1:(r+1),1:(c+1),:] = image[:,:,0:3]\n",
    "    img_mat = np.zeros((r*c,27))\n",
    "    ind_r = np.delete(np.add(list(range(r)),1),r-1)\n",
    "    ind_c = np.delete(np.add(list(range(c)),1),c-1)\n",
    "    for i in ind_r:\n",
    "        for j in ind_c:\n",
    "            img_mat[(i*c+j-1),:] = np.array(np.concatenate((np.ndarray.flatten(np.transpose(img_pad[(i-1):(i+2),(j-1):(j+2),0])),\n",
    "                                           np.ndarray.flatten(np.transpose(img_pad[(i-1):(i+2),(j-1):(j+2),1])),\n",
    "                                           np.ndarray.flatten(np.transpose(img_pad[(i-1):(i+2),(j-1):(j+2),2])))))\n",
    "            k+=1\n",
    "    return(img_mat)"
   ]
  },
  {
   "cell_type": "code",
   "execution_count": null,
   "metadata": {},
   "outputs": [],
   "source": [
    "###Segment image using pretrained segmentation model###\n",
    "img = mpimg.imread(\" \") #Include path to example image within quotation marks\n",
    "i_mat = img_to_mat_nbhd(img)\n",
    "prob_vec = seg_mod.predict_proba(i_mat)\n",
    "prob_lab = np.zeros(len(prob_vec))\n",
    "for i in range(len(prob_lab)):\n",
    "    if prob_vec[i]>0.995:\n",
    "        prob_lab[i] = 1\n",
    "r,c = np.shape(img)[0], np.shape(img)[1]\n",
    "bin_img = np.zeros((r,c))\n",
    "for i in range(r):\n",
    "    bin_img[i,:] = prob_lab[(i*c):((i+1)*c)]\n",
    "    res = np.multiply(bin_img,255)\n",
    "cv2.imwrite(\" \",res) #Include path to which binary image will be written within quotation marks"
   ]
  },
  {
   "cell_type": "code",
   "execution_count": null,
   "metadata": {},
   "outputs": [],
   "source": [
    "###Opening operation on binary image using 5x5 diamond-shaped kernel###\n",
    "diam_ker_5 = np.array([[0,0,1,0,0],[0,1,1,1,0],[1,1,1,1,1],[0,1,1,1,0],[0,0,1,0,0]],np.uint8)\n",
    "cv2.imread(\" \") #Include path to binary image within quotation marks\n",
    "img_open = cv2.morphologyEx(img,cv2.MORPH_OPEN,diam_ker_5)\n",
    "cv2.imwrite(\" \",img_open) #Include path to which opened binary image will be written within quotation marks"
   ]
  },
  {
   "cell_type": "code",
   "execution_count": null,
   "metadata": {},
   "outputs": [],
   "source": [
    "###Obtain height, width and size measurements from opened binary image###\n",
    "row_sums = np.sum(img_open,axis=1)\n",
    "pixel_ht = np.subtract(860,np.min(np.where(row_sums>1))) #860 is the pixel position of the top of the plant's pot\n",
    "\n",
    "col_sums = np.sum(img.open,axis=0)\n",
    "pixel_wdt = np.subtract(np.max(np.where(col_sums>1)),np.min(np.where(col_sums>1)))\n",
    "\n",
    "pixel_size = np.sum(img.open)"
   ]
  }
 ],
 "metadata": {
  "kernelspec": {
   "display_name": "Python 3",
   "language": "python",
   "name": "python3"
  },
  "language_info": {
   "codemirror_mode": {
    "name": "ipython",
    "version": 3
   },
   "file_extension": ".py",
   "mimetype": "text/x-python",
   "name": "python",
   "nbconvert_exporter": "python",
   "pygments_lexer": "ipython3",
   "version": "3.7.3"
  }
 },
 "nbformat": 4,
 "nbformat_minor": 2
}
